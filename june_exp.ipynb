{
 "cells": [
  {
   "cell_type": "code",
   "execution_count": 1,
   "metadata": {},
   "outputs": [
    {
     "name": "stdout",
     "output_type": "stream",
     "text": [
      "           Date       Category Payment Mode  \\\n",
      "0    2024-12-22  entertainment  Credit Card   \n",
      "1    2024-12-11  entertainment          UPI   \n",
      "2    2024-12-15          Bills  Credit Card   \n",
      "3    2024-12-16  entertainment          UPI   \n",
      "4    2024-12-05       Medicine  Credit Card   \n",
      "..          ...            ...          ...   \n",
      "115  2024-12-02       Medicine  Credit Card   \n",
      "116  2024-12-25       Medicine   Debit Card   \n",
      "117  2024-12-03  Subscriptions          UPI   \n",
      "118  2024-12-30      Groceries         Cash   \n",
      "119  2024-12-30       Shopping          UPI   \n",
      "\n",
      "                             Description  Amount  Cashback  \n",
      "0                        Club Rhodes Inc  843.69      0.51  \n",
      "1                      Club Clark-Hayden  991.72      4.64  \n",
      "2           water bill Patterson-Mcgrath  272.50      2.82  \n",
      "3               concert Marquez and Sons   46.28      4.74  \n",
      "4                       bandage Howe LLC  531.52      1.52  \n",
      "..                                   ...     ...       ...  \n",
      "115               Paracetamol Palmer Inc  144.62      4.03  \n",
      "116              Digine Mcdonald-Sanders  562.18      0.00  \n",
      "117  Prime Graves, Bonilla and Contreras  386.80      2.66  \n",
      "118             Milk 2 lit Taylor-Graham  438.81      0.00  \n",
      "119    electronics flipkart Walker Group  736.72      1.74  \n",
      "\n",
      "[120 rows x 6 columns]\n"
     ]
    }
   ],
   "source": [
    "import random\n",
    "import pandas as pd\n",
    "from faker import Faker\n",
    "\n",
    "fake = Faker()\n",
    "\n",
    "from datetime import datetime\n",
    "start_date = datetime(2024, 12, 1)\n",
    "end_date = datetime(2024, 12, 31)\n",
    "\n",
    "categories = ['Groceries', 'Transport', 'Subscriptions', 'Bills', 'Shopping','Medicine','entertainment']\n",
    "payment_modes = ['Credit Card', 'Debit Card', 'Cash', 'UPI']\n",
    "\n",
    "category_descriptions = {\n",
    "    'Medicine':['Digine','bandage','Antacid','Bitadine','Paracetamol'],\n",
    "    'entertainment':['Movie','concert','Club','Games'],\n",
    "    'Groceries': ['Rice 5 kg', 'Aatta 5kg', 'Sugar 2kg', 'Oil 5 lit', 'Milk 2 lit'],\n",
    "    'Transport': ['taxi ride to', 'bus fare to', 'fuel at', 'train ticket to', 'ride-sharing to'],\n",
    "    'Subscriptions': ['Netflix', 'Prime', 'audible', 'Hotstar', 'SonyLiv'],\n",
    "    'Bills': ['electricity bill', 'water bill', 'internet bill', 'gas bill', 'phone bill'],\n",
    "    'Shopping': ['clothes Myntra', 'electronics flipkart', 'gifts local', 'Shoes nike']\n",
    "}\n",
    "\n",
    "def gen_exp_data(num_entries):\n",
    "    data = []\n",
    "    for _ in range(num_entries):\n",
    "        category = random.choice(categories)\n",
    "        description_keyword = random.choice(category_descriptions[category])\n",
    "        description = f\"{description_keyword} {fake.company()}\"\n",
    "        payment_mode = random.choice(payment_modes)\n",
    "        \n",
    "        \n",
    "        if payment_mode in ['Cash','Debit Card']:\n",
    "            cashback = 0\n",
    "        else:\n",
    "            cashback = round(random.uniform(0, 5), 2)\n",
    "        \n",
    "        expense = {\n",
    "            \"Date\": fake.date_between(start_date=start_date, end_date=end_date),\n",
    "            \"Category\": category,\n",
    "            \"Payment Mode\": payment_mode,\n",
    "            \"Description\": description,\n",
    "            \"Amount\": round(random.uniform(10, 1000), 2),\n",
    "            \"Cashback\": cashback\n",
    "        }\n",
    "        data.append(expense)\n",
    "    return pd.DataFrame(data)\n",
    "data_exp = gen_exp_data(120)\n",
    "\n",
    "\n",
    "\n",
    "print(data_exp)\n",
    "\n",
    "data_exp.to_csv('dec_exp.csv')\n"
   ]
  },
  {
   "cell_type": "code",
   "execution_count": 2,
   "metadata": {},
   "outputs": [
    {
     "name": "stdout",
     "output_type": "stream",
     "text": [
      "Connected MySQL\n"
     ]
    }
   ],
   "source": [
    "import mysql.connector\n",
    "\n",
    "connection = mysql.connector.connect(\n",
    "    host=\"127.0.0.1\",\n",
    "    port=3306,  \n",
    "    user=\"root\",\n",
    "    password=\"root\"\n",
    ")\n",
    "\n",
    "if connection.is_connected():\n",
    "    print(\"Connected MySQL\")\n",
    "else:\n",
    "    print(\"Failed to connect\")\n",
    "\n",
    " \n",
    "\n"
   ]
  },
  {
   "cell_type": "code",
   "execution_count": 3,
   "metadata": {},
   "outputs": [],
   "source": [
    "cursor = connection.cursor()"
   ]
  },
  {
   "cell_type": "code",
   "execution_count": 6,
   "metadata": {},
   "outputs": [
    {
     "name": "stdout",
     "output_type": "stream",
     "text": [
      "Database Created\n"
     ]
    }
   ],
   "source": [
    "cursor.execute('CREATE DATABASE IF NOT EXISTS Exp_track_db')\n",
    "print(\"Database Created\")\n"
   ]
  },
  {
   "cell_type": "code",
   "execution_count": 7,
   "metadata": {},
   "outputs": [],
   "source": [
    "cursor.execute(\"USE Exp_track_db\")"
   ]
  },
  {
   "cell_type": "code",
   "execution_count": 14,
   "metadata": {},
   "outputs": [],
   "source": [
    "\n",
    "create_table_query = \"\"\"\n",
    "CREATE TABLE IF NOT EXISTS Exp_table(\n",
    "Date Date,\n",
    "Category VARCHAR(50),\n",
    "PaymentMode VARCHAR(50),\n",
    "Description TEXT,\n",
    "Amount DECIMAL(4, 1),\n",
    "Cashback DECIMAL(2, 1)\n",
    ")\n",
    "\"\"\""
   ]
  },
  {
   "cell_type": "code",
   "execution_count": 1,
   "metadata": {},
   "outputs": [
    {
     "ename": "NameError",
     "evalue": "name 'cursor' is not defined",
     "output_type": "error",
     "traceback": [
      "\u001b[1;31m---------------------------------------------------------------------------\u001b[0m",
      "\u001b[1;31mNameError\u001b[0m                                 Traceback (most recent call last)",
      "Cell \u001b[1;32mIn[1], line 1\u001b[0m\n\u001b[1;32m----> 1\u001b[0m cursor\u001b[38;5;241m.\u001b[39mexecute(create_table_query)\n",
      "\u001b[1;31mNameError\u001b[0m: name 'cursor' is not defined"
     ]
    }
   ],
   "source": [
    "cursor.execute(create_table_query)"
   ]
  },
  {
   "cell_type": "code",
   "execution_count": null,
   "metadata": {},
   "outputs": [],
   "source": []
  },
  {
   "cell_type": "code",
   "execution_count": null,
   "metadata": {},
   "outputs": [],
   "source": []
  },
  {
   "cell_type": "code",
   "execution_count": null,
   "metadata": {},
   "outputs": [],
   "source": []
  },
  {
   "cell_type": "code",
   "execution_count": null,
   "metadata": {},
   "outputs": [],
   "source": []
  },
  {
   "cell_type": "code",
   "execution_count": null,
   "metadata": {},
   "outputs": [],
   "source": []
  }
 ],
 "metadata": {
  "kernelspec": {
   "display_name": "base",
   "language": "python",
   "name": "python3"
  },
  "language_info": {
   "codemirror_mode": {
    "name": "ipython",
    "version": 3
   },
   "file_extension": ".py",
   "mimetype": "text/x-python",
   "name": "python",
   "nbconvert_exporter": "python",
   "pygments_lexer": "ipython3",
   "version": "3.12.7"
  }
 },
 "nbformat": 4,
 "nbformat_minor": 2
}
